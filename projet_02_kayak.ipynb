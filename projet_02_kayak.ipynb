{
 "cells": [
  {
   "cell_type": "markdown",
   "metadata": {},
   "source": [
    "# STEP 1 - SCRAPE DATA FROM DESTINATIONS"
   ]
  },
  {
   "cell_type": "code",
   "execution_count": 1,
   "metadata": {},
   "outputs": [],
   "source": [
    "import requests"
   ]
  },
  {
   "cell_type": "code",
   "execution_count": 2,
   "metadata": {},
   "outputs": [
    {
     "data": {
      "text/plain": [
       "'[{\"place_id\":122848,\"licence\":\"Data © OpenStreetMap contributors, ODbL 1.0. https://osm.org/copyright\",\"osm_type\":\"node\",\"osm_id\":26686587,\"boundingbox\":[\"49.2804591\",\"49.6004591\",\"0.9339658\",\"1.2539658\"],\"lat\":\"49.4404591\",\"lon\":\"1.0939658\",\"display_name\":\"Rouen, Seine-Maritime, Normandie, France métropolitaine, 76-000, France\",\"class\":\"place\",\"type\":\"city\",\"importance\":0.8500726280583955,\"icon\":\"https://nominatim.openstreetmap.org/ui/mapicons//poi_place_city.p.20.png\"}]'"
      ]
     },
     "execution_count": 2,
     "metadata": {},
     "output_type": "execute_result"
    }
   ],
   "source": [
    "#Before creating a loop let's test our api for the city of Rouen\n",
    "#To do so we import the libraby called request\n",
    "response = requests.get(\"http://nominatim.openstreetmap.org/search?city=Rouen&country=france&format=json&countrycode=fr&limit=1\")\n",
    "response.text"
   ]
  },
  {
   "cell_type": "code",
   "execution_count": 3,
   "metadata": {},
   "outputs": [
    {
     "name": "stdout",
     "output_type": "stream",
     "text": [
      "lat = 49.4404591, long =1.0939658\n"
     ]
    }
   ],
   "source": [
    "#Result is a list with one dic. We have to extract from this dic two key \"lat\" & \"lon\"\n",
    "#Make a research for a town and extract \"lat\" & \"lon\" to generate a gps point\n",
    "first_result = response.json()\n",
    "dic = first_result[0]\n",
    "print(\"lat = {}, long ={}\".format(dic[\"lat\"],dic[\"lon\"]))"
   ]
  },
  {
   "cell_type": "code",
   "execution_count": 4,
   "metadata": {},
   "outputs": [],
   "source": [
    "#We extract the gps coordinates from the api\n",
    "#Let's create a loop to iterate our request on our list \"cities\"\n",
    "#Problem 1 : are written with spaces inside name. We need to replace \" \" by \"+\" as indicated in nominatim documentation\n",
    "cities = [\"Mont Saint Michel\",\n",
    "\"St Malo\",\n",
    "\"Bayeux\",\n",
    "\"Le Havre\",\n",
    "\"Rouen\",\n",
    "\"Paris\",\n",
    "\"Amiens\",\n",
    "\"Lille\",\n",
    "\"Strasbourg\",\n",
    "\"Chateau du Haut Koenigsbourg\",\n",
    "\"Colmar\",\n",
    "\"Eguisheim\",\n",
    "\"Besancon\",\n",
    "\"Dijon\",\n",
    "\"Annecy\",\n",
    "\"Grenoble\",\n",
    "\"Lyon\",\n",
    "#\"Gorges du Verdon\",\n",
    "\"Bormes les Mimosas\",\n",
    "\"Cassis\",\n",
    "\"Marseille\",\n",
    "\"Aix en Provence\",\n",
    "\"Avignon\",\n",
    "\"Uzes\",\n",
    "\"Nimes\",\n",
    "\"Aigues Mortes\",\n",
    "\"Saintes Maries de la mer\",\n",
    "\"Collioure\",\n",
    "\"Carcassonne\",\n",
    "#\"Ariege\",\n",
    "\"Toulouse\",\n",
    "\"Montauban\",\n",
    "\"Biarritz\",\n",
    "\"Bayonne\",\n",
    "\"La Rochelle\"]\n",
    "\n",
    "cities2 = [\"Mont Saint Michel\",\n",
    "\"St Malo\",\n",
    "\"Bayeux\",\n",
    "\"Le Havre\"]"
   ]
  },
  {
   "cell_type": "code",
   "execution_count": 5,
   "metadata": {},
   "outputs": [],
   "source": [
    "#Create a new dataframe with the no spaces within cities name\n",
    "import pandas as pd\n",
    "villes = pd.DataFrame(cities)\n",
    "villes[0] = [str(str(i).replace(\" \", \"+\")) for i in villes[0]]\n"
   ]
  },
  {
   "cell_type": "code",
   "execution_count": 6,
   "metadata": {},
   "outputs": [],
   "source": [
    "#Create a dataset with latitude and longitude colums ready to be filled\n",
    "final = pd.DataFrame(columns=[\"Latitude\", \"Longitude\",\"mean_rain\"])"
   ]
  },
  {
   "cell_type": "code",
   "execution_count": 7,
   "metadata": {},
   "outputs": [
    {
     "name": "stdout",
     "output_type": "stream",
     "text": [
      "Gps coordonates of Mont+Saint+Michel is lat =48.6359541, long=-1.511459954959514\n",
      "Gps coordonates of St+Malo is lat =48.649518, long=-2.0260409\n",
      "Gps coordonates of Bayeux is lat =49.2764624, long=-0.7024738\n",
      "Gps coordonates of Le+Havre is lat =49.4938975, long=0.1079732\n",
      "Gps coordonates of Rouen is lat =49.4404591, long=1.0939658\n",
      "Gps coordonates of Paris is lat =48.8588897, long=2.3200410217200766\n",
      "Gps coordonates of Amiens is lat =49.8941708, long=2.2956951\n",
      "Gps coordonates of Lille is lat =50.6365654, long=3.0635282\n",
      "Gps coordonates of Strasbourg is lat =48.584614, long=7.7507127\n",
      "Gps coordonates of Chateau+du+Haut+Koenigsbourg is lat =48.2495226, long=7.3454923\n",
      "Gps coordonates of Colmar is lat =48.0777517, long=7.3579641\n",
      "Gps coordonates of Eguisheim is lat =48.0447968, long=7.3079618\n",
      "Gps coordonates of Besancon is lat =47.2380222, long=6.0243622\n",
      "Gps coordonates of Dijon is lat =47.3215806, long=5.0414701\n",
      "Gps coordonates of Annecy is lat =45.8992348, long=6.1288847\n",
      "Gps coordonates of Grenoble is lat =45.1875602, long=5.7357819\n",
      "Gps coordonates of Lyon is lat =45.7578137, long=4.8320114\n",
      "Gps coordonates of Bormes+les+Mimosas is lat =43.1572172, long=6.329253867921363\n",
      "Gps coordonates of Cassis is lat =43.2140359, long=5.5396318\n",
      "Gps coordonates of Marseille is lat =43.2961743, long=5.3699525\n",
      "Gps coordonates of Aix+en+Provence is lat =43.5298424, long=5.4474738\n",
      "Gps coordonates of Avignon is lat =43.9492493, long=4.8059012\n",
      "Gps coordonates of Uzes is lat =44.0121279, long=4.4196718\n",
      "Gps coordonates of Nimes is lat =43.8374249, long=4.3600687\n",
      "Gps coordonates of Aigues+Mortes is lat =43.5658225, long=4.1912837\n",
      "Gps coordonates of Saintes+Maries+de+la+mer is lat =43.4522771, long=4.4287172\n",
      "Gps coordonates of Collioure is lat =42.52505, long=3.0831554\n",
      "Gps coordonates of Carcassonne is lat =43.2130358, long=2.3491069\n",
      "Gps coordonates of Toulouse is lat =43.6044622, long=1.4442469\n",
      "Gps coordonates of Montauban is lat =44.0175835, long=1.3549991\n",
      "Gps coordonates of Biarritz is lat =43.4832523, long=-1.5592776\n",
      "Gps coordonates of Bayonne is lat =43.4933379, long=-1.475099\n",
      "Gps coordonates of La+Rochelle is lat =46.1591126, long=-1.1520434\n"
     ]
    }
   ],
   "source": [
    "import time\n",
    "for i in villes[0]:\n",
    "        response = requests.get(\"http://nominatim.openstreetmap.org/search?city={}&country=france&format=json&countrycode=fr&limit=1\".format(i))\n",
    "        first_result = response.json()\n",
    "        dic = first_result[0]\n",
    "        lat = dic[\"lat\"]\n",
    "        lon = dic[\"lon\"]\n",
    "        print(\"Gps coordonates of {} is lat ={}, long={}\".format(i,lat,lon))\n",
    "        final.loc[i,'Ville'] = i\n",
    "        final.loc[i,'Latitude']= lat\n",
    "        final.loc[i,'Longitude'] = lon\n",
    "        #break\n",
    "       # time.sleep(1)\n"
   ]
  },
  {
   "cell_type": "code",
   "execution_count": 8,
   "metadata": {},
   "outputs": [],
   "source": [
    "#Reset Index created by our loop\n",
    "final = final.reset_index(drop=True)\n",
    "#Column swap\n",
    "columns_titles = [\"Ville\",\"Latitude\",\"Longitude\",\"mean_rain\"]\n",
    "final=final.reindex(columns=columns_titles)\n",
    "#Deleting \"+\" in cities' names\n",
    "final[\"Ville\"] = [str(str(i).replace(\"+\", \" \")) for i in final[\"Ville\"]]"
   ]
  },
  {
   "cell_type": "markdown",
   "metadata": {},
   "source": [
    "## Attention : ICI IL FAUT TRAITER GOERGES DU VERDON ET ARIEGE ET LES INTEGRER AUTOMATIQUEMENT DANS LE TABLEAU"
   ]
  },
  {
   "cell_type": "code",
   "execution_count": 9,
   "metadata": {},
   "outputs": [],
   "source": [
    "#Gorges du verdon\n",
    "#Ariege"
   ]
  },
  {
   "cell_type": "code",
   "execution_count": 10,
   "metadata": {},
   "outputs": [
    {
     "data": {
      "text/plain": [
       "'[{\"place_id\":282341688,\"licence\":\"Data © OpenStreetMap contributors, ODbL 1.0. https://osm.org/copyright\",\"osm_type\":\"relation\",\"osm_id\":2202162,\"boundingbox\":[\"-50.2187169\",\"51.3055721\",\"-178.3873749\",\"172.3057152\"],\"lat\":\"46.603354\",\"lon\":\"1.8883335\",\"display_name\":\"France\",\"class\":\"boundary\",\"type\":\"administrative\",\"importance\":1.0133264437396503,\"icon\":\"https://nominatim.openstreetmap.org/ui/mapicons//poi_boundary_administrative.p.20.png\"}]'"
      ]
     },
     "execution_count": 10,
     "metadata": {},
     "output_type": "execute_result"
    }
   ],
   "source": [
    "#Before creating a loop let's test our api for Gorge du verdon\n",
    "#To do so we import the libraby called request\n",
    "response = requests.get(\"http://nominatim.openstreetmap.org/search?Other=Gorges+du+verdon&country=france&format=json&limit=1&countrycode=fr&tourims=attraction\")\n",
    "response.text"
   ]
  },
  {
   "cell_type": "code",
   "execution_count": 11,
   "metadata": {},
   "outputs": [
    {
     "data": {
      "text/plain": [
       "'[{\"place_id\":281653603,\"licence\":\"Data © OpenStreetMap contributors, ODbL 1.0. https://osm.org/copyright\",\"osm_type\":\"relation\",\"osm_id\":7439,\"boundingbox\":[\"42.5732416\",\"43.3162514\",\"0.8267506\",\"2.1758135\"],\"lat\":\"42.9455368\",\"lon\":\"1.4065544156065486\",\"display_name\":\"Ariège, Occitanie, France métropolitaine, France\",\"class\":\"boundary\",\"type\":\"administrative\",\"importance\":0.8109114788084189,\"icon\":\"https://nominatim.openstreetmap.org/ui/mapicons//poi_boundary_administrative.p.20.png\"}]'"
      ]
     },
     "execution_count": 11,
     "metadata": {},
     "output_type": "execute_result"
    }
   ],
   "source": [
    "#Before creating a loop let's test our api for teh Ariège\n",
    "#To do so we import the libraby called request\n",
    "response = requests.get(\"http://nominatim.openstreetmap.org/search?county=Ariège&country=france&format=json&countrycode=fr&limit=1&boundary=administrative\")\n",
    "response.text"
   ]
  },
  {
   "cell_type": "markdown",
   "metadata": {},
   "source": [
    "# STEP 2 - GET WEATHER DATA FROM EACH DESTINATION"
   ]
  },
  {
   "cell_type": "code",
   "execution_count": 12,
   "metadata": {},
   "outputs": [],
   "source": [
    "#Now let's focus on getting weather data from each destination\n",
    "#Imputs of the API is : lat, lon, exclude, units, appid\n",
    "#Dic Daily contains 8 dict containing all data for each day\n",
    "r_weather = requests.get(\"https://api.openweathermap.org/data/2.5/onecall?lat=48.8588897&lon=-2.3200410217200766&exclude=current,minutely,hourly,alerts&units=metric&appid=6caf73164b957d18dbdd2884cc3c6945\")\n",
    "weather_dic = r_weather.json()"
   ]
  },
  {
   "cell_type": "code",
   "execution_count": 13,
   "metadata": {},
   "outputs": [],
   "source": [
    "#Create a dataset with latitude and longitude colums ready to be filled\n",
    "meteo = pd.DataFrame(columns=[\"rain\"])"
   ]
  },
  {
   "cell_type": "code",
   "execution_count": 14,
   "metadata": {},
   "outputs": [],
   "source": [
    "for idx, i,j,x in zip(range(len(final)), final['Latitude'],final['Longitude'],final['mean_rain']):\n",
    "        r_weather = requests.get(\"https://api.openweathermap.org/data/2.5/onecall?lat={}&lon={}&exclude=current,minutely,hourly,alerts&units=metric&appid=6caf73164b957d18dbdd2884cc3c6945\".format(i,j))\n",
    "        test_weather = r_weather.json()\n",
    "        test_ville = test_havre = pd.json_normalize(test_weather,\"daily\")\n",
    "        test_ville['dt'] = pd.to_datetime(test_ville['dt'], unit='s').dt.date\n",
    "        mean = test_ville['rain'].mean()\n",
    "        #print(\"The mean is {}\".format(mean))\n",
    "        #final.loc[x,'mean_rain'] = mean\n",
    "        #final.iat[0,3] = mean\n",
    "        final.loc[idx,'mean_rain'] = mean"
   ]
  },
  {
   "cell_type": "code",
   "execution_count": 36,
   "metadata": {},
   "outputs": [
    {
     "data": {
      "text/html": [
       "<div>\n",
       "<style scoped>\n",
       "    .dataframe tbody tr th:only-of-type {\n",
       "        vertical-align: middle;\n",
       "    }\n",
       "\n",
       "    .dataframe tbody tr th {\n",
       "        vertical-align: top;\n",
       "    }\n",
       "\n",
       "    .dataframe thead th {\n",
       "        text-align: right;\n",
       "    }\n",
       "</style>\n",
       "<table border=\"1\" class=\"dataframe\">\n",
       "  <thead>\n",
       "    <tr style=\"text-align: right;\">\n",
       "      <th></th>\n",
       "      <th>Ville</th>\n",
       "      <th>Latitude</th>\n",
       "      <th>Longitude</th>\n",
       "      <th>mean_rain</th>\n",
       "    </tr>\n",
       "  </thead>\n",
       "  <tbody>\n",
       "    <tr>\n",
       "      <th>32</th>\n",
       "      <td>La Rochelle</td>\n",
       "      <td>46.1591126</td>\n",
       "      <td>-1.1520434</td>\n",
       "      <td>0.926667</td>\n",
       "    </tr>\n",
       "    <tr>\n",
       "      <th>16</th>\n",
       "      <td>Lyon</td>\n",
       "      <td>45.7578137</td>\n",
       "      <td>4.8320114</td>\n",
       "      <td>1.36</td>\n",
       "    </tr>\n",
       "    <tr>\n",
       "      <th>22</th>\n",
       "      <td>Uzes</td>\n",
       "      <td>44.0121279</td>\n",
       "      <td>4.4196718</td>\n",
       "      <td>1.54</td>\n",
       "    </tr>\n",
       "    <tr>\n",
       "      <th>23</th>\n",
       "      <td>Nimes</td>\n",
       "      <td>43.8374249</td>\n",
       "      <td>4.3600687</td>\n",
       "      <td>1.63</td>\n",
       "    </tr>\n",
       "    <tr>\n",
       "      <th>4</th>\n",
       "      <td>Rouen</td>\n",
       "      <td>49.4404591</td>\n",
       "      <td>1.0939658</td>\n",
       "      <td>1.723333</td>\n",
       "    </tr>\n",
       "    <tr>\n",
       "      <th>3</th>\n",
       "      <td>Le Havre</td>\n",
       "      <td>49.4938975</td>\n",
       "      <td>0.1079732</td>\n",
       "      <td>1.77125</td>\n",
       "    </tr>\n",
       "    <tr>\n",
       "      <th>15</th>\n",
       "      <td>Grenoble</td>\n",
       "      <td>45.1875602</td>\n",
       "      <td>5.7357819</td>\n",
       "      <td>2.2325</td>\n",
       "    </tr>\n",
       "    <tr>\n",
       "      <th>21</th>\n",
       "      <td>Avignon</td>\n",
       "      <td>43.9492493</td>\n",
       "      <td>4.8059012</td>\n",
       "      <td>2.315</td>\n",
       "    </tr>\n",
       "    <tr>\n",
       "      <th>24</th>\n",
       "      <td>Aigues Mortes</td>\n",
       "      <td>43.5658225</td>\n",
       "      <td>4.1912837</td>\n",
       "      <td>2.4325</td>\n",
       "    </tr>\n",
       "    <tr>\n",
       "      <th>18</th>\n",
       "      <td>Cassis</td>\n",
       "      <td>43.2140359</td>\n",
       "      <td>5.5396318</td>\n",
       "      <td>2.545</td>\n",
       "    </tr>\n",
       "    <tr>\n",
       "      <th>27</th>\n",
       "      <td>Carcassonne</td>\n",
       "      <td>43.2130358</td>\n",
       "      <td>2.3491069</td>\n",
       "      <td>2.66</td>\n",
       "    </tr>\n",
       "    <tr>\n",
       "      <th>2</th>\n",
       "      <td>Bayeux</td>\n",
       "      <td>49.2764624</td>\n",
       "      <td>-0.7024738</td>\n",
       "      <td>2.71875</td>\n",
       "    </tr>\n",
       "    <tr>\n",
       "      <th>26</th>\n",
       "      <td>Collioure</td>\n",
       "      <td>42.52505</td>\n",
       "      <td>3.0831554</td>\n",
       "      <td>2.85</td>\n",
       "    </tr>\n",
       "    <tr>\n",
       "      <th>13</th>\n",
       "      <td>Dijon</td>\n",
       "      <td>47.3215806</td>\n",
       "      <td>5.0414701</td>\n",
       "      <td>2.9375</td>\n",
       "    </tr>\n",
       "    <tr>\n",
       "      <th>25</th>\n",
       "      <td>Saintes Maries de la mer</td>\n",
       "      <td>43.4522771</td>\n",
       "      <td>4.4287172</td>\n",
       "      <td>3.225</td>\n",
       "    </tr>\n",
       "    <tr>\n",
       "      <th>7</th>\n",
       "      <td>Lille</td>\n",
       "      <td>50.6365654</td>\n",
       "      <td>3.0635282</td>\n",
       "      <td>3.302</td>\n",
       "    </tr>\n",
       "    <tr>\n",
       "      <th>10</th>\n",
       "      <td>Colmar</td>\n",
       "      <td>48.0777517</td>\n",
       "      <td>7.3579641</td>\n",
       "      <td>3.6375</td>\n",
       "    </tr>\n",
       "    <tr>\n",
       "      <th>11</th>\n",
       "      <td>Eguisheim</td>\n",
       "      <td>48.0447968</td>\n",
       "      <td>7.3079618</td>\n",
       "      <td>3.7425</td>\n",
       "    </tr>\n",
       "    <tr>\n",
       "      <th>14</th>\n",
       "      <td>Annecy</td>\n",
       "      <td>45.8992348</td>\n",
       "      <td>6.1288847</td>\n",
       "      <td>3.753333</td>\n",
       "    </tr>\n",
       "    <tr>\n",
       "      <th>0</th>\n",
       "      <td>Mont Saint Michel</td>\n",
       "      <td>48.6359541</td>\n",
       "      <td>-1.511459954959514</td>\n",
       "      <td>3.766</td>\n",
       "    </tr>\n",
       "    <tr>\n",
       "      <th>8</th>\n",
       "      <td>Strasbourg</td>\n",
       "      <td>48.584614</td>\n",
       "      <td>7.7507127</td>\n",
       "      <td>4.023333</td>\n",
       "    </tr>\n",
       "    <tr>\n",
       "      <th>12</th>\n",
       "      <td>Besancon</td>\n",
       "      <td>47.2380222</td>\n",
       "      <td>6.0243622</td>\n",
       "      <td>4.044</td>\n",
       "    </tr>\n",
       "    <tr>\n",
       "      <th>1</th>\n",
       "      <td>St Malo</td>\n",
       "      <td>48.649518</td>\n",
       "      <td>-2.0260409</td>\n",
       "      <td>4.388</td>\n",
       "    </tr>\n",
       "    <tr>\n",
       "      <th>19</th>\n",
       "      <td>Marseille</td>\n",
       "      <td>43.2961743</td>\n",
       "      <td>5.3699525</td>\n",
       "      <td>5.2</td>\n",
       "    </tr>\n",
       "    <tr>\n",
       "      <th>31</th>\n",
       "      <td>Bayonne</td>\n",
       "      <td>43.4933379</td>\n",
       "      <td>-1.475099</td>\n",
       "      <td>5.515</td>\n",
       "    </tr>\n",
       "    <tr>\n",
       "      <th>30</th>\n",
       "      <td>Biarritz</td>\n",
       "      <td>43.4832523</td>\n",
       "      <td>-1.5592776</td>\n",
       "      <td>5.74</td>\n",
       "    </tr>\n",
       "    <tr>\n",
       "      <th>9</th>\n",
       "      <td>Chateau du Haut Koenigsbourg</td>\n",
       "      <td>48.2495226</td>\n",
       "      <td>7.3454923</td>\n",
       "      <td>6.075</td>\n",
       "    </tr>\n",
       "    <tr>\n",
       "      <th>29</th>\n",
       "      <td>Montauban</td>\n",
       "      <td>44.0175835</td>\n",
       "      <td>1.3549991</td>\n",
       "      <td>6.236667</td>\n",
       "    </tr>\n",
       "    <tr>\n",
       "      <th>28</th>\n",
       "      <td>Toulouse</td>\n",
       "      <td>43.6044622</td>\n",
       "      <td>1.4442469</td>\n",
       "      <td>6.376667</td>\n",
       "    </tr>\n",
       "    <tr>\n",
       "      <th>6</th>\n",
       "      <td>Amiens</td>\n",
       "      <td>49.8941708</td>\n",
       "      <td>2.2956951</td>\n",
       "      <td>6.766667</td>\n",
       "    </tr>\n",
       "    <tr>\n",
       "      <th>20</th>\n",
       "      <td>Aix en Provence</td>\n",
       "      <td>43.5298424</td>\n",
       "      <td>5.4474738</td>\n",
       "      <td>6.84</td>\n",
       "    </tr>\n",
       "    <tr>\n",
       "      <th>5</th>\n",
       "      <td>Paris</td>\n",
       "      <td>48.8588897</td>\n",
       "      <td>2.3200410217200766</td>\n",
       "      <td>9.833333</td>\n",
       "    </tr>\n",
       "    <tr>\n",
       "      <th>17</th>\n",
       "      <td>Bormes les Mimosas</td>\n",
       "      <td>43.1572172</td>\n",
       "      <td>6.329253867921363</td>\n",
       "      <td>10.935</td>\n",
       "    </tr>\n",
       "  </tbody>\n",
       "</table>\n",
       "</div>"
      ],
      "text/plain": [
       "                           Ville    Latitude           Longitude mean_rain\n",
       "32                   La Rochelle  46.1591126          -1.1520434  0.926667\n",
       "16                          Lyon  45.7578137           4.8320114      1.36\n",
       "22                          Uzes  44.0121279           4.4196718      1.54\n",
       "23                         Nimes  43.8374249           4.3600687      1.63\n",
       "4                          Rouen  49.4404591           1.0939658  1.723333\n",
       "3                       Le Havre  49.4938975           0.1079732   1.77125\n",
       "15                      Grenoble  45.1875602           5.7357819    2.2325\n",
       "21                       Avignon  43.9492493           4.8059012     2.315\n",
       "24                 Aigues Mortes  43.5658225           4.1912837    2.4325\n",
       "18                        Cassis  43.2140359           5.5396318     2.545\n",
       "27                   Carcassonne  43.2130358           2.3491069      2.66\n",
       "2                         Bayeux  49.2764624          -0.7024738   2.71875\n",
       "26                     Collioure    42.52505           3.0831554      2.85\n",
       "13                         Dijon  47.3215806           5.0414701    2.9375\n",
       "25      Saintes Maries de la mer  43.4522771           4.4287172     3.225\n",
       "7                          Lille  50.6365654           3.0635282     3.302\n",
       "10                        Colmar  48.0777517           7.3579641    3.6375\n",
       "11                     Eguisheim  48.0447968           7.3079618    3.7425\n",
       "14                        Annecy  45.8992348           6.1288847  3.753333\n",
       "0              Mont Saint Michel  48.6359541  -1.511459954959514     3.766\n",
       "8                     Strasbourg   48.584614           7.7507127  4.023333\n",
       "12                      Besancon  47.2380222           6.0243622     4.044\n",
       "1                        St Malo   48.649518          -2.0260409     4.388\n",
       "19                     Marseille  43.2961743           5.3699525       5.2\n",
       "31                       Bayonne  43.4933379           -1.475099     5.515\n",
       "30                      Biarritz  43.4832523          -1.5592776      5.74\n",
       "9   Chateau du Haut Koenigsbourg  48.2495226           7.3454923     6.075\n",
       "29                     Montauban  44.0175835           1.3549991  6.236667\n",
       "28                      Toulouse  43.6044622           1.4442469  6.376667\n",
       "6                         Amiens  49.8941708           2.2956951  6.766667\n",
       "20               Aix en Provence  43.5298424           5.4474738      6.84\n",
       "5                          Paris  48.8588897  2.3200410217200766  9.833333\n",
       "17            Bormes les Mimosas  43.1572172   6.329253867921363    10.935"
      ]
     },
     "execution_count": 36,
     "metadata": {},
     "output_type": "execute_result"
    }
   ],
   "source": [
    "#Best towns in terms of rain\n",
    "final.sort_values(by=['mean_rain'],ascending=True)"
   ]
  },
  {
   "cell_type": "code",
   "execution_count": null,
   "metadata": {},
   "outputs": [],
   "source": []
  }
 ],
 "metadata": {
  "interpreter": {
   "hash": "40d3a090f54c6569ab1632332b64b2c03c39dcf918b08424e98f38b5ae0af88f"
  },
  "kernelspec": {
   "display_name": "Python 3.8.8 64-bit ('base': conda)",
   "language": "python",
   "name": "python3"
  },
  "language_info": {
   "codemirror_mode": {
    "name": "ipython",
    "version": 3
   },
   "file_extension": ".py",
   "mimetype": "text/x-python",
   "name": "python",
   "nbconvert_exporter": "python",
   "pygments_lexer": "ipython3",
   "version": "3.8.8"
  },
  "orig_nbformat": 4
 },
 "nbformat": 4,
 "nbformat_minor": 2
}
