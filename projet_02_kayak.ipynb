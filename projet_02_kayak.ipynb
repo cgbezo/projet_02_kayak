{
 "cells": [
  {
   "cell_type": "code",
   "execution_count": 1,
   "metadata": {},
   "outputs": [],
   "source": [
    "import requests"
   ]
  },
  {
   "cell_type": "code",
   "execution_count": 2,
   "metadata": {},
   "outputs": [
    {
     "data": {
      "text/plain": [
       "'[{\"place_id\":122848,\"licence\":\"Data © OpenStreetMap contributors, ODbL 1.0. https://osm.org/copyright\",\"osm_type\":\"node\",\"osm_id\":26686587,\"boundingbox\":[\"49.2804591\",\"49.6004591\",\"0.9339658\",\"1.2539658\"],\"lat\":\"49.4404591\",\"lon\":\"1.0939658\",\"display_name\":\"Rouen, Seine-Maritime, Normandie, France métropolitaine, 76-000, France\",\"class\":\"place\",\"type\":\"city\",\"importance\":0.8500726280583955,\"icon\":\"https://nominatim.openstreetmap.org/ui/mapicons//poi_place_city.p.20.png\"}]'"
      ]
     },
     "execution_count": 2,
     "metadata": {},
     "output_type": "execute_result"
    }
   ],
   "source": [
    "#Before creating a loop let's test our api for teh city of Rouen\n",
    "#To do so we import the libraby called request\n",
    "response = requests.get(\"http://nominatim.openstreetmap.org/search?city=Rouen&country=france&format=json&countrycode=fr&limit=1\")\n",
    "response.text"
   ]
  },
  {
   "cell_type": "code",
   "execution_count": 3,
   "metadata": {},
   "outputs": [
    {
     "name": "stdout",
     "output_type": "stream",
     "text": [
      "lat = 49.4404591, long =1.0939658\n"
     ]
    }
   ],
   "source": [
    "#Result is a list with one dic. We have to extract from this dic two key \"lat\" & \"lon\"\n",
    "#Make a research for a town and extract \"lat\" & \"lon\" to generate a gps point\n",
    "first_result = response.json()\n",
    "dic = first_result[0]\n",
    "print(\"lat = {}, long ={}\".format(dic[\"lat\"],dic[\"lon\"]))"
   ]
  },
  {
   "cell_type": "code",
   "execution_count": 4,
   "metadata": {},
   "outputs": [],
   "source": [
    "#We extract the gps coordinates from the api\n",
    "#Let's create a loop to iterate our request on our list \"cities\"\n",
    "#Problem 1 : are written with spaces inside name. We need to replace \" \" by \"+\" as indicated in nominatim documentation\n",
    "cities = [\"Mont Saint Michel\",\n",
    "\"St Malo\",\n",
    "\"Bayeux\",\n",
    "\"Le Havre\",\n",
    "\"Rouen\",\n",
    "\"Paris\",\n",
    "\"Amiens\",\n",
    "\"Lille\",\n",
    "\"Strasbourg\",\n",
    "\"Chateau du Haut Koenigsbourg\",\n",
    "\"Colmar\",\n",
    "\"Eguisheim\",\n",
    "\"Besancon\",\n",
    "\"Dijon\",\n",
    "\"Annecy\",\n",
    "\"Grenoble\",\n",
    "\"Lyon\",\n",
    "#\"Gorges du Verdon\",\n",
    "\"Bormes les Mimosas\",\n",
    "\"Cassis\",\n",
    "\"Marseille\",\n",
    "\"Aix en Provence\",\n",
    "\"Avignon\",\n",
    "\"Uzes\",\n",
    "\"Nimes\",\n",
    "\"Aigues Mortes\",\n",
    "\"Saintes Maries de la mer\",\n",
    "\"Collioure\",\n",
    "\"Carcassonne\",\n",
    "#\"Ariege\",\n",
    "\"Toulouse\",\n",
    "\"Montauban\",\n",
    "\"Biarritz\",\n",
    "\"Bayonne\",\n",
    "\"La Rochelle\"]\n",
    "\n",
    "cities2 = [\"Mont Saint Michel\",\n",
    "\"St Malo\",\n",
    "\"Bayeux\",\n",
    "\"Le Havre\"]"
   ]
  },
  {
   "cell_type": "code",
   "execution_count": null,
   "metadata": {},
   "outputs": [],
   "source": []
  },
  {
   "cell_type": "code",
   "execution_count": 5,
   "metadata": {},
   "outputs": [
    {
     "name": "stdout",
     "output_type": "stream",
     "text": [
      "<class 'pandas.core.frame.DataFrame'>\n",
      "RangeIndex: 33 entries, 0 to 32\n",
      "Data columns (total 1 columns):\n",
      " #   Column  Non-Null Count  Dtype \n",
      "---  ------  --------------  ----- \n",
      " 0   0       33 non-null     object\n",
      "dtypes: object(1)\n",
      "memory usage: 392.0+ bytes\n"
     ]
    }
   ],
   "source": [
    "#Create a new dataframe with the no spaces within cities name\n",
    "import pandas as pd\n",
    "villes = pd.DataFrame(cities)\n",
    "villes[0] = [str(str(i).replace(\" \", \"+\")) for i in villes[0]]\n",
    "villes.info()\n"
   ]
  },
  {
   "cell_type": "code",
   "execution_count": 6,
   "metadata": {},
   "outputs": [
    {
     "name": "stdout",
     "output_type": "stream",
     "text": [
      "<class 'pandas.core.frame.DataFrame'>\n",
      "Index: 0 entries\n",
      "Data columns (total 2 columns):\n",
      " #   Column     Non-Null Count  Dtype \n",
      "---  ------     --------------  ----- \n",
      " 0   Latitude   0 non-null      object\n",
      " 1   Longitude  0 non-null      object\n",
      "dtypes: object(2)\n",
      "memory usage: 0.0+ bytes\n"
     ]
    }
   ],
   "source": [
    "#Create a dataset with latitude and longitude colums ready to be filled\n",
    "final = pd.DataFrame(columns=[\"Latitude\", \"Longitude\"])\n",
    "#final.insert(0,\"Ville\",villes[0],True)\n",
    "final.info()\n",
    "\n",
    "#for i in final['Ville']:"
   ]
  },
  {
   "cell_type": "code",
   "execution_count": 11,
   "metadata": {},
   "outputs": [
    {
     "name": "stdout",
     "output_type": "stream",
     "text": [
      "Gps coordonates of Mont+Saint+Michel is lat =48.6359541, long=-1.511459954959514\n",
      "Gps coordonates of St+Malo is lat =48.649518, long=-2.0260409\n",
      "Gps coordonates of Bayeux is lat =49.2764624, long=-0.7024738\n",
      "Gps coordonates of Le+Havre is lat =49.4938975, long=0.1079732\n",
      "Gps coordonates of Rouen is lat =49.4404591, long=1.0939658\n",
      "Gps coordonates of Paris is lat =48.8588897, long=2.3200410217200766\n",
      "Gps coordonates of Amiens is lat =49.8941708, long=2.2956951\n",
      "Gps coordonates of Lille is lat =50.6365654, long=3.0635282\n",
      "Gps coordonates of Strasbourg is lat =48.584614, long=7.7507127\n",
      "Gps coordonates of Chateau+du+Haut+Koenigsbourg is lat =48.2495226, long=7.3454923\n",
      "Gps coordonates of Colmar is lat =48.0777517, long=7.3579641\n",
      "Gps coordonates of Eguisheim is lat =48.0447968, long=7.3079618\n",
      "Gps coordonates of Besancon is lat =47.2380222, long=6.0243622\n",
      "Gps coordonates of Dijon is lat =47.3215806, long=5.0414701\n",
      "Gps coordonates of Annecy is lat =45.8992348, long=6.1288847\n",
      "Gps coordonates of Grenoble is lat =45.1875602, long=5.7357819\n",
      "Gps coordonates of Lyon is lat =45.7578137, long=4.8320114\n",
      "Gps coordonates of Bormes+les+Mimosas is lat =43.1572172, long=6.329253867921363\n",
      "Gps coordonates of Cassis is lat =43.2140359, long=5.5396318\n",
      "Gps coordonates of Marseille is lat =43.2961743, long=5.3699525\n",
      "Gps coordonates of Aix+en+Provence is lat =43.5298424, long=5.4474738\n",
      "Gps coordonates of Avignon is lat =43.9492493, long=4.8059012\n",
      "Gps coordonates of Uzes is lat =44.0121279, long=4.4196718\n",
      "Gps coordonates of Nimes is lat =43.8374249, long=4.3600687\n",
      "Gps coordonates of Aigues+Mortes is lat =43.5658225, long=4.1912837\n",
      "Gps coordonates of Saintes+Maries+de+la+mer is lat =43.4522771, long=4.4287172\n",
      "Gps coordonates of Collioure is lat =42.52505, long=3.0831554\n",
      "Gps coordonates of Carcassonne is lat =43.2130358, long=2.3491069\n",
      "Gps coordonates of Toulouse is lat =43.6044622, long=1.4442469\n",
      "Gps coordonates of Montauban is lat =44.0175835, long=1.3549991\n",
      "Gps coordonates of Biarritz is lat =43.4832523, long=-1.5592776\n",
      "Gps coordonates of Bayonne is lat =43.4933379, long=-1.475099\n",
      "Gps coordonates of La+Rochelle is lat =46.1591126, long=-1.1520434\n"
     ]
    }
   ],
   "source": [
    "import time\n",
    "for i in villes[0]:\n",
    "        response = requests.get(\"http://nominatim.openstreetmap.org/search?city={}&country=france&format=json&countrycode=fr&limit=1\".format(i))\n",
    "        first_result = response.json()\n",
    "        dic = first_result[0]\n",
    "        lat = dic[\"lat\"]\n",
    "        lon = dic[\"lon\"]\n",
    "        print(\"Gps coordonates of {} is lat ={}, long={}\".format(i,lat,lon))\n",
    "        final.loc[i,'Ville'] = i\n",
    "        final.loc[i,'Latitude']= lat\n",
    "        final.loc[i,'Longitude'] = lon\n",
    "        #break\n",
    "       # time.sleep(1)\n"
   ]
  },
  {
   "cell_type": "code",
   "execution_count": 13,
   "metadata": {},
   "outputs": [
    {
     "data": {
      "text/html": [
       "<div>\n",
       "<style scoped>\n",
       "    .dataframe tbody tr th:only-of-type {\n",
       "        vertical-align: middle;\n",
       "    }\n",
       "\n",
       "    .dataframe tbody tr th {\n",
       "        vertical-align: top;\n",
       "    }\n",
       "\n",
       "    .dataframe thead th {\n",
       "        text-align: right;\n",
       "    }\n",
       "</style>\n",
       "<table border=\"1\" class=\"dataframe\">\n",
       "  <thead>\n",
       "    <tr style=\"text-align: right;\">\n",
       "      <th></th>\n",
       "      <th>Latitude</th>\n",
       "      <th>Longitude</th>\n",
       "      <th>Ville</th>\n",
       "    </tr>\n",
       "  </thead>\n",
       "  <tbody>\n",
       "    <tr>\n",
       "      <th>0</th>\n",
       "      <td>48.6359541</td>\n",
       "      <td>-1.511459954959514</td>\n",
       "      <td>Mont+Saint+Michel</td>\n",
       "    </tr>\n",
       "    <tr>\n",
       "      <th>1</th>\n",
       "      <td>48.649518</td>\n",
       "      <td>-2.0260409</td>\n",
       "      <td>St+Malo</td>\n",
       "    </tr>\n",
       "    <tr>\n",
       "      <th>2</th>\n",
       "      <td>49.2764624</td>\n",
       "      <td>-0.7024738</td>\n",
       "      <td>Bayeux</td>\n",
       "    </tr>\n",
       "    <tr>\n",
       "      <th>3</th>\n",
       "      <td>49.4938975</td>\n",
       "      <td>0.1079732</td>\n",
       "      <td>Le+Havre</td>\n",
       "    </tr>\n",
       "    <tr>\n",
       "      <th>4</th>\n",
       "      <td>49.4404591</td>\n",
       "      <td>1.0939658</td>\n",
       "      <td>Rouen</td>\n",
       "    </tr>\n",
       "    <tr>\n",
       "      <th>5</th>\n",
       "      <td>48.8588897</td>\n",
       "      <td>2.3200410217200766</td>\n",
       "      <td>Paris</td>\n",
       "    </tr>\n",
       "    <tr>\n",
       "      <th>6</th>\n",
       "      <td>49.8941708</td>\n",
       "      <td>2.2956951</td>\n",
       "      <td>Amiens</td>\n",
       "    </tr>\n",
       "    <tr>\n",
       "      <th>7</th>\n",
       "      <td>50.6365654</td>\n",
       "      <td>3.0635282</td>\n",
       "      <td>Lille</td>\n",
       "    </tr>\n",
       "    <tr>\n",
       "      <th>8</th>\n",
       "      <td>48.584614</td>\n",
       "      <td>7.7507127</td>\n",
       "      <td>Strasbourg</td>\n",
       "    </tr>\n",
       "    <tr>\n",
       "      <th>9</th>\n",
       "      <td>48.2495226</td>\n",
       "      <td>7.3454923</td>\n",
       "      <td>Chateau+du+Haut+Koenigsbourg</td>\n",
       "    </tr>\n",
       "    <tr>\n",
       "      <th>10</th>\n",
       "      <td>48.0777517</td>\n",
       "      <td>7.3579641</td>\n",
       "      <td>Colmar</td>\n",
       "    </tr>\n",
       "    <tr>\n",
       "      <th>11</th>\n",
       "      <td>48.0447968</td>\n",
       "      <td>7.3079618</td>\n",
       "      <td>Eguisheim</td>\n",
       "    </tr>\n",
       "    <tr>\n",
       "      <th>12</th>\n",
       "      <td>47.2380222</td>\n",
       "      <td>6.0243622</td>\n",
       "      <td>Besancon</td>\n",
       "    </tr>\n",
       "    <tr>\n",
       "      <th>13</th>\n",
       "      <td>47.3215806</td>\n",
       "      <td>5.0414701</td>\n",
       "      <td>Dijon</td>\n",
       "    </tr>\n",
       "    <tr>\n",
       "      <th>14</th>\n",
       "      <td>45.8992348</td>\n",
       "      <td>6.1288847</td>\n",
       "      <td>Annecy</td>\n",
       "    </tr>\n",
       "    <tr>\n",
       "      <th>15</th>\n",
       "      <td>45.1875602</td>\n",
       "      <td>5.7357819</td>\n",
       "      <td>Grenoble</td>\n",
       "    </tr>\n",
       "    <tr>\n",
       "      <th>16</th>\n",
       "      <td>45.7578137</td>\n",
       "      <td>4.8320114</td>\n",
       "      <td>Lyon</td>\n",
       "    </tr>\n",
       "    <tr>\n",
       "      <th>17</th>\n",
       "      <td>43.1572172</td>\n",
       "      <td>6.329253867921363</td>\n",
       "      <td>Bormes+les+Mimosas</td>\n",
       "    </tr>\n",
       "    <tr>\n",
       "      <th>18</th>\n",
       "      <td>43.2140359</td>\n",
       "      <td>5.5396318</td>\n",
       "      <td>Cassis</td>\n",
       "    </tr>\n",
       "    <tr>\n",
       "      <th>19</th>\n",
       "      <td>43.2961743</td>\n",
       "      <td>5.3699525</td>\n",
       "      <td>Marseille</td>\n",
       "    </tr>\n",
       "    <tr>\n",
       "      <th>20</th>\n",
       "      <td>43.5298424</td>\n",
       "      <td>5.4474738</td>\n",
       "      <td>Aix+en+Provence</td>\n",
       "    </tr>\n",
       "    <tr>\n",
       "      <th>21</th>\n",
       "      <td>43.9492493</td>\n",
       "      <td>4.8059012</td>\n",
       "      <td>Avignon</td>\n",
       "    </tr>\n",
       "    <tr>\n",
       "      <th>22</th>\n",
       "      <td>44.0121279</td>\n",
       "      <td>4.4196718</td>\n",
       "      <td>Uzes</td>\n",
       "    </tr>\n",
       "    <tr>\n",
       "      <th>23</th>\n",
       "      <td>43.8374249</td>\n",
       "      <td>4.3600687</td>\n",
       "      <td>Nimes</td>\n",
       "    </tr>\n",
       "    <tr>\n",
       "      <th>24</th>\n",
       "      <td>43.5658225</td>\n",
       "      <td>4.1912837</td>\n",
       "      <td>Aigues+Mortes</td>\n",
       "    </tr>\n",
       "    <tr>\n",
       "      <th>25</th>\n",
       "      <td>43.4522771</td>\n",
       "      <td>4.4287172</td>\n",
       "      <td>Saintes+Maries+de+la+mer</td>\n",
       "    </tr>\n",
       "    <tr>\n",
       "      <th>26</th>\n",
       "      <td>42.52505</td>\n",
       "      <td>3.0831554</td>\n",
       "      <td>Collioure</td>\n",
       "    </tr>\n",
       "    <tr>\n",
       "      <th>27</th>\n",
       "      <td>43.2130358</td>\n",
       "      <td>2.3491069</td>\n",
       "      <td>Carcassonne</td>\n",
       "    </tr>\n",
       "    <tr>\n",
       "      <th>28</th>\n",
       "      <td>43.6044622</td>\n",
       "      <td>1.4442469</td>\n",
       "      <td>Toulouse</td>\n",
       "    </tr>\n",
       "    <tr>\n",
       "      <th>29</th>\n",
       "      <td>44.0175835</td>\n",
       "      <td>1.3549991</td>\n",
       "      <td>Montauban</td>\n",
       "    </tr>\n",
       "    <tr>\n",
       "      <th>30</th>\n",
       "      <td>43.4832523</td>\n",
       "      <td>-1.5592776</td>\n",
       "      <td>Biarritz</td>\n",
       "    </tr>\n",
       "    <tr>\n",
       "      <th>31</th>\n",
       "      <td>43.4933379</td>\n",
       "      <td>-1.475099</td>\n",
       "      <td>Bayonne</td>\n",
       "    </tr>\n",
       "    <tr>\n",
       "      <th>32</th>\n",
       "      <td>46.1591126</td>\n",
       "      <td>-1.1520434</td>\n",
       "      <td>La+Rochelle</td>\n",
       "    </tr>\n",
       "  </tbody>\n",
       "</table>\n",
       "</div>"
      ],
      "text/plain": [
       "      Latitude           Longitude                         Ville\n",
       "0   48.6359541  -1.511459954959514             Mont+Saint+Michel\n",
       "1    48.649518          -2.0260409                       St+Malo\n",
       "2   49.2764624          -0.7024738                        Bayeux\n",
       "3   49.4938975           0.1079732                      Le+Havre\n",
       "4   49.4404591           1.0939658                         Rouen\n",
       "5   48.8588897  2.3200410217200766                         Paris\n",
       "6   49.8941708           2.2956951                        Amiens\n",
       "7   50.6365654           3.0635282                         Lille\n",
       "8    48.584614           7.7507127                    Strasbourg\n",
       "9   48.2495226           7.3454923  Chateau+du+Haut+Koenigsbourg\n",
       "10  48.0777517           7.3579641                        Colmar\n",
       "11  48.0447968           7.3079618                     Eguisheim\n",
       "12  47.2380222           6.0243622                      Besancon\n",
       "13  47.3215806           5.0414701                         Dijon\n",
       "14  45.8992348           6.1288847                        Annecy\n",
       "15  45.1875602           5.7357819                      Grenoble\n",
       "16  45.7578137           4.8320114                          Lyon\n",
       "17  43.1572172   6.329253867921363            Bormes+les+Mimosas\n",
       "18  43.2140359           5.5396318                        Cassis\n",
       "19  43.2961743           5.3699525                     Marseille\n",
       "20  43.5298424           5.4474738               Aix+en+Provence\n",
       "21  43.9492493           4.8059012                       Avignon\n",
       "22  44.0121279           4.4196718                          Uzes\n",
       "23  43.8374249           4.3600687                         Nimes\n",
       "24  43.5658225           4.1912837                 Aigues+Mortes\n",
       "25  43.4522771           4.4287172      Saintes+Maries+de+la+mer\n",
       "26    42.52505           3.0831554                     Collioure\n",
       "27  43.2130358           2.3491069                   Carcassonne\n",
       "28  43.6044622           1.4442469                      Toulouse\n",
       "29  44.0175835           1.3549991                     Montauban\n",
       "30  43.4832523          -1.5592776                      Biarritz\n",
       "31  43.4933379           -1.475099                       Bayonne\n",
       "32  46.1591126          -1.1520434                   La+Rochelle"
      ]
     },
     "execution_count": 13,
     "metadata": {},
     "output_type": "execute_result"
    }
   ],
   "source": [
    "#Reset Index created by our loop\n",
    "final = final.reset_index(drop=True)\n",
    "final"
   ]
  },
  {
   "cell_type": "code",
   "execution_count": null,
   "metadata": {},
   "outputs": [],
   "source": [
    "#Gorges du verdon\n",
    "\n",
    "#Ariege"
   ]
  },
  {
   "cell_type": "code",
   "execution_count": null,
   "metadata": {},
   "outputs": [
    {
     "data": {
      "text/plain": [
       "'[{\"place_id\":282341688,\"licence\":\"Data © OpenStreetMap contributors, ODbL 1.0. https://osm.org/copyright\",\"osm_type\":\"relation\",\"osm_id\":2202162,\"boundingbox\":[\"-50.2187169\",\"51.3055721\",\"-178.3873749\",\"172.3057152\"],\"lat\":\"46.603354\",\"lon\":\"1.8883335\",\"display_name\":\"France\",\"class\":\"boundary\",\"type\":\"administrative\",\"importance\":1.0133264437396503,\"icon\":\"https://nominatim.openstreetmap.org/ui/mapicons//poi_boundary_administrative.p.20.png\"}]'"
      ]
     },
     "execution_count": 11,
     "metadata": {},
     "output_type": "execute_result"
    }
   ],
   "source": [
    "#Before creating a loop let's test our api for Gorge du verdon\n",
    "#To do so we import the libraby called request\n",
    "response = requests.get(\"http://nominatim.openstreetmap.org/search?Other=Gorges+du+verdon&country=france&format=json&limit=1&countrycode=fr&tourims=attraction\")\n",
    "response.text"
   ]
  },
  {
   "cell_type": "code",
   "execution_count": null,
   "metadata": {},
   "outputs": [
    {
     "data": {
      "text/plain": [
       "'[{\"place_id\":281653603,\"licence\":\"Data © OpenStreetMap contributors, ODbL 1.0. https://osm.org/copyright\",\"osm_type\":\"relation\",\"osm_id\":7439,\"boundingbox\":[\"42.5732416\",\"43.3162514\",\"0.8267506\",\"2.1758135\"],\"lat\":\"42.9455368\",\"lon\":\"1.4065544156065486\",\"display_name\":\"Ariège, Occitanie, France métropolitaine, France\",\"class\":\"boundary\",\"type\":\"administrative\",\"importance\":0.8109114788084189,\"icon\":\"https://nominatim.openstreetmap.org/ui/mapicons//poi_boundary_administrative.p.20.png\"}]'"
      ]
     },
     "execution_count": 12,
     "metadata": {},
     "output_type": "execute_result"
    }
   ],
   "source": [
    "#Before creating a loop let's test our api for teh Ariège\n",
    "#To do so we import the libraby called request\n",
    "response = requests.get(\"http://nominatim.openstreetmap.org/search?county=Ariège&country=france&format=json&countrycode=fr&limit=1&boundary=administrative\")\n",
    "response.text"
   ]
  }
 ],
 "metadata": {
  "interpreter": {
   "hash": "40d3a090f54c6569ab1632332b64b2c03c39dcf918b08424e98f38b5ae0af88f"
  },
  "kernelspec": {
   "display_name": "Python 3.8.8 64-bit ('base': conda)",
   "language": "python",
   "name": "python3"
  },
  "language_info": {
   "codemirror_mode": {
    "name": "ipython",
    "version": 3
   },
   "file_extension": ".py",
   "mimetype": "text/x-python",
   "name": "python",
   "nbconvert_exporter": "python",
   "pygments_lexer": "ipython3",
   "version": "3.8.8"
  },
  "orig_nbformat": 4
 },
 "nbformat": 4,
 "nbformat_minor": 2
}
